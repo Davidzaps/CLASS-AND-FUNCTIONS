{
 "cells": [
  {
   "cell_type": "code",
   "execution_count": 1,
   "id": "1864d0e6",
   "metadata": {},
   "outputs": [],
   "source": [
    "a=\"machine learning\"\n",
    "b=\"neural networks \"\n",
    "c=\"vision \"\n",
    "d=\"robotics\"\n",
    "e=\"speech processing\"\n",
    "f=\"natural language processing\"\n",
    "lists=[a,b,c,d,e,f]\n",
    "def subfields():\n",
    "    AI=input(\"sub:fields in ai are:\")\n",
    "    for message in lists:\n",
    "        print(message)       \n",
    "        \n"
   ]
  },
  {
   "cell_type": "code",
   "execution_count": null,
   "id": "1eac3af4",
   "metadata": {},
   "outputs": [],
   "source": []
  },
  {
   "cell_type": "code",
   "execution_count": 2,
   "id": "0c5dcf4c",
   "metadata": {},
   "outputs": [
    {
     "name": "stdout",
     "output_type": "stream",
     "text": [
      "sub:fields in ai are:a\n",
      "machine learning\n",
      "neural networks \n",
      "vision \n",
      "robotics\n",
      "speech processing\n",
      "natural language processing\n"
     ]
    }
   ],
   "source": [
    "subfields()"
   ]
  },
  {
   "cell_type": "code",
   "execution_count": 4,
   "id": "3dd57c3b",
   "metadata": {},
   "outputs": [
    {
     "name": "stdout",
     "output_type": "stream",
     "text": [
      "enter a number:52452\n",
      "52452 is a even number\n"
     ]
    }
   ],
   "source": [
    "def oddeven():\n",
    "    num=int(input(\"enter a number:\"))\n",
    "    if(num%2==0):\n",
    "        print(num,\"is a even number\")\n",
    "        message=(num,\"is a even number\")\n",
    "    else:\n",
    "        print(num,\"is odd number\")\n",
    "        message=(num,\"is odd number\")\n",
    "oddeven()        \n",
    "        "
   ]
  },
  {
   "cell_type": "code",
   "execution_count": 5,
   "id": "cea43ede",
   "metadata": {},
   "outputs": [],
   "source": [
    "def percentage():\n",
    "    sub1=int(input(\"subject1= \"))\n",
    "    sub2=int(input(\"subject2=\"))\n",
    "    sub3=int(input(\"subject3=\"))\n",
    "    sub4=int(input(\"subject4=\"))\n",
    "    sub5=int(input(\"subject5=\"))\n",
    "    total=sub1+sub2+sub3+sub4+sub5\n",
    "    print(total)\n",
    "        \n",
    "    percent=total/5\n",
    "    print(percent)\n"
   ]
  },
  {
   "cell_type": "code",
   "execution_count": 6,
   "id": "3b193b1d",
   "metadata": {},
   "outputs": [
    {
     "name": "stdout",
     "output_type": "stream",
     "text": [
      "subject1= 98\n",
      "subject2=97\n",
      "subject3=95\n",
      "subject4=95\n",
      "subject5=93\n",
      "478\n",
      "95.6\n"
     ]
    }
   ],
   "source": [
    "percentage()"
   ]
  },
  {
   "cell_type": "code",
   "execution_count": 7,
   "id": "dc7de6c2",
   "metadata": {},
   "outputs": [],
   "source": [
    "def elegiblity():\n",
    "        gender=input(\"your gender:\")\n",
    "        age=int(input(\"your age:\"))\n",
    "        if(gender==\"male\" and age==21):\n",
    "            print(\"elegible\")\n",
    "            message=\"elegible\"\n",
    "        elif(gender==\"female\"and age>18):\n",
    "            print(\"elegible\")\n",
    "            message=\"elegible\"\n",
    "        else:\n",
    "            print(\"not elegible\")\n",
    "            message=\"not elegible\"\n",
    "        return message \n",
    "   "
   ]
  },
  {
   "cell_type": "code",
   "execution_count": 8,
   "id": "ff42e245",
   "metadata": {},
   "outputs": [
    {
     "name": "stdout",
     "output_type": "stream",
     "text": [
      "your gender:male\n",
      "your age:21\n",
      "elegible\n"
     ]
    },
    {
     "data": {
      "text/plain": [
       "'elegible'"
      ]
     },
     "execution_count": 8,
     "metadata": {},
     "output_type": "execute_result"
    }
   ],
   "source": [
    "elegiblity()"
   ]
  },
  {
   "cell_type": "code",
   "execution_count": 9,
   "id": "cf106cf9",
   "metadata": {},
   "outputs": [],
   "source": [
    "def triangle():\n",
    "    he=int(input(\"height:\"))\n",
    "    br=int(input(\"breath:\"))\n",
    "    area=(he*br)/2\n",
    "    print(\"area of triangle:\",area)\n",
    "    he1=int(input(\"height1:\"))\n",
    "    he2=int(input(\"height2:\"))\n",
    "    he3=int(input(\"breath:\"))\n",
    "    periemeter=he1+he2+he3\n",
    "    print(\"periemeter of triangle=\",periemeter)\n",
    "   \n",
    "    \n",
    "    \n",
    "    \n",
    "    \n",
    "    \n",
    "\n",
    "    \n",
    "    \n",
    "    \n",
    "    "
   ]
  },
  {
   "cell_type": "code",
   "execution_count": 10,
   "id": "de0db036",
   "metadata": {},
   "outputs": [
    {
     "name": "stdout",
     "output_type": "stream",
     "text": [
      "height:32\n",
      "breath:34\n",
      "area of triangle: 544.0\n",
      "height1:2\n",
      "height2:4\n",
      "breath:4\n",
      "periemeter of triangle= 10\n"
     ]
    }
   ],
   "source": [
    "triangle()"
   ]
  },
  {
   "cell_type": "code",
   "execution_count": null,
   "id": "e2077a55",
   "metadata": {},
   "outputs": [],
   "source": []
  }
 ],
 "metadata": {
  "kernelspec": {
   "display_name": "Python 3 (ipykernel)",
   "language": "python",
   "name": "python3"
  },
  "language_info": {
   "codemirror_mode": {
    "name": "ipython",
    "version": 3
   },
   "file_extension": ".py",
   "mimetype": "text/x-python",
   "name": "python",
   "nbconvert_exporter": "python",
   "pygments_lexer": "ipython3",
   "version": "3.11.5"
  }
 },
 "nbformat": 4,
 "nbformat_minor": 5
}
