{
 "cells": [
  {
   "cell_type": "code",
   "execution_count": 8,
   "id": "42b6d948",
   "metadata": {},
   "outputs": [
    {
     "name": "stdout",
     "output_type": "stream",
     "text": [
      "machine learning\n",
      "neural networks\n",
      "vision\n",
      "robotics\n",
      "speech processing\n",
      "natural language processing\n"
     ]
    }
   ],
   "source": [
    "class subfieldsinai:\n",
    "    def subfields():\n",
    "        print(\"machine learning\")\n",
    "        print(\"neural networks\")\n",
    "        print(\"vision\")\n",
    "        print(\"robotics\")\n",
    "        print(\"speech processing\")\n",
    "        print(\"natural language processing\")\n",
    "            \n",
    "subfieldsinai.subfields()                                 \n",
    "                                 \n",
    "    "
   ]
  },
  {
   "cell_type": "code",
   "execution_count": 10,
   "id": "317cd502",
   "metadata": {},
   "outputs": [
    {
     "name": "stdout",
     "output_type": "stream",
     "text": [
      "52452\n",
      "it is even\n"
     ]
    }
   ],
   "source": [
    "class oddoreven:\n",
    "    def oddoreven():\n",
    "        num1=int(input())\n",
    "        if(num1%2==0):\n",
    "            print(\"it is even\")\n",
    "oddoreven.oddoreven()            \n",
    "        \n",
    "        "
   ]
  },
  {
   "cell_type": "code",
   "execution_count": 12,
   "id": "ad4eaea0",
   "metadata": {},
   "outputs": [
    {
     "name": "stdout",
     "output_type": "stream",
     "text": [
      "20\n",
      "your gender:male\n",
      "your age: 20\n",
      "not elegible\n"
     ]
    }
   ],
   "source": [
    "class ELEGEBLITYOFMARRIAGE:\n",
    "    def ELEGIBLE():\n",
    "        age=int(input())\n",
    "        if(age==18):\n",
    "            print(\"your gender:female\")\n",
    "            print(\"your age:\",age)\n",
    "            print(\"elegible\")\n",
    "        elif(age==20):\n",
    "            print(\"your gender:male\")\n",
    "            print(\"your age:\",age)\n",
    "            print(\"not elegible\")\n",
    "        elif(age==21):\n",
    "            print(\"your gender:female\")\n",
    "            print(\"your age:\",age)\n",
    "            print(\"elegible\")\n",
    "ELEGEBLITYOFMARRIAGE.ELEGIBLE()            \n",
    "            \n",
    "            \n",
    "        "
   ]
  },
  {
   "cell_type": "code",
   "execution_count": 13,
   "id": "59505c07",
   "metadata": {},
   "outputs": [
    {
     "name": "stdout",
     "output_type": "stream",
     "text": [
      "SUBJECT1=98\n",
      "SUBJECT2=87\n",
      "SUBJECT3=95\n",
      "SUBJECT4=95\n",
      "SUBJECT5=93\n",
      "TOTAL:468\n",
      "percentage:93.600000000001\n"
     ]
    }
   ],
   "source": [
    "class findpercentage:\n",
    "    def percentage():\n",
    "        print(\"SUBJECT1=98\")\n",
    "        print(\"SUBJECT2=87\")\n",
    "        print(\"SUBJECT3=95\")\n",
    "        print(\"SUBJECT4=95\")\n",
    "        print(\"SUBJECT5=93\")\n",
    "        print(\"TOTAL:468\")\n",
    "        print(\"percentage:93.600000000001\")\n",
    "findpercentage.percentage()        \n",
    "              \n",
    "        "
   ]
  },
  {
   "cell_type": "code",
   "execution_count": 2,
   "id": "f588b638",
   "metadata": {},
   "outputs": [
    {
     "name": "stdout",
     "output_type": "stream",
     "text": [
      "height:32\n",
      "breath:34\n",
      "Area formula:(Height*breath)/2\n",
      "Area of triangle:544.0\n",
      "Height1:2\n",
      "Height2:4\n",
      "breath:4\n",
      "periemeter formula:height1+height2+breath\n",
      "periemter of triangle:10\n"
     ]
    }
   ],
   "source": [
    "class triangle:\n",
    "    def triangle():\n",
    "        print(\"height:32\")\n",
    "        print(\"breath:34\")\n",
    "        print(\"Area formula:(Height*breath)/2\")\n",
    "        print(\"Area of triangle:544.0\") \n",
    "        print(\"Height1:2\")\n",
    "        print(\"Height2:4\")\n",
    "        print(\"breath:4\")\n",
    "        print(\"periemeter formula:height1+height2+breath\")\n",
    "        print(\"periemter of triangle:10\")\n",
    "triangle.triangle()        \n",
    "        \n",
    "              "
   ]
  },
  {
   "cell_type": "code",
   "execution_count": null,
   "id": "1d2a8cff",
   "metadata": {},
   "outputs": [],
   "source": []
  }
 ],
 "metadata": {
  "kernelspec": {
   "display_name": "Python 3 (ipykernel)",
   "language": "python",
   "name": "python3"
  },
  "language_info": {
   "codemirror_mode": {
    "name": "ipython",
    "version": 3
   },
   "file_extension": ".py",
   "mimetype": "text/x-python",
   "name": "python",
   "nbconvert_exporter": "python",
   "pygments_lexer": "ipython3",
   "version": "3.11.5"
  }
 },
 "nbformat": 4,
 "nbformat_minor": 5
}
